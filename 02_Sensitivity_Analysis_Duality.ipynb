{
  "nbformat": 4,
  "nbformat_minor": 0,
  "metadata": {
    "colab": {
      "provenance": []
    },
    "kernelspec": {
      "name": "python3",
      "display_name": "Python 3"
    },
    "language_info": {
      "name": "python"
    }
  },
  "cells": [
    {
      "cell_type": "code",
      "source": [
        "from scipy.optimize import linprog\n",
        "\n",
        "# Coefficients of the objective function (for minimization, we use -Z)\n",
        "c = [-3, -5]  # Negative because linprog minimizes\n",
        "\n",
        "# Coefficients of the inequality constraints (left-hand side)\n",
        "A = [\n",
        "    [1, 0],   # x1 <= 4\n",
        "    [0, 2],   # 2x2 <= 12\n",
        "    [3, 2]    # 3x1 + 2x2 <= 18\n",
        "]\n",
        "\n",
        "# Right-hand side of the inequality constraints\n",
        "b = [4, 12, 18]\n",
        "\n",
        "# Bounds for variables (x1 >= 0, x2 >= 0)\n",
        "x_bounds = (0, None)\n",
        "y_bounds = (0, None)\n",
        "\n",
        "# Solve the linear programming problem\n",
        "result = linprog(c, A_ub=A, b_ub=b, bounds=[x_bounds, y_bounds], method='highs')\n",
        "\n",
        "# Extract results\n",
        "if result.success:\n",
        "    print(\"Optimal solution:\")\n",
        "    print(f\"x1 = {result.x[0]}, x2 = {result.x[1]}\")\n",
        "    print(f\"Maximum Z = {-result.fun}\")  # Negate to get the maximization value\n",
        "    print(\"\\nShadow Prices (Dual Values):\")\n",
        "    print(result.ineqlin.marginals)  # Dual values for constraints\n",
        "else:\n",
        "    print(\"No solution found.\")"
      ],
      "metadata": {
        "id": "-TAots5CuHCS",
        "outputId": "a6fad8b4-cd60-40b7-f3bf-9948a934b637",
        "colab": {
          "base_uri": "https://localhost:8080/"
        }
      },
      "execution_count": 29,
      "outputs": [
        {
          "output_type": "stream",
          "name": "stdout",
          "text": [
            "Optimal solution:\n",
            "x1 = 3.6666666666666665, x2 = 3.5\n",
            "Maximum Z = 28.5\n",
            "\n",
            "Shadow Prices (Dual Values):\n",
            "[-0.  -1.5 -1. ]\n"
          ]
        }
      ]
    },
    {
      "cell_type": "code",
      "execution_count": 4,
      "metadata": {
        "id": "y-ST9OnrwAK9"
      },
      "outputs": [],
      "source": [
        "import matplotlib.pyplot as plt # to plot charts\n",
        "import numpy as np # mathematics calculation package\n",
        "import scipy # provide functions for optimization, algebra, etc.\n",
        "from scipy.optimize import linprog # special part for Linear Programming\n",
        "%matplotlib inline"
      ]
    },
    {
      "cell_type": "markdown",
      "source": [
        "# **Sensitivity Analysis**"
      ],
      "metadata": {
        "id": "v39PhkzsgYrg"
      }
    },
    {
      "cell_type": "markdown",
      "source": [
        "# Recall Example 1"
      ],
      "metadata": {
        "id": "Zn1Rpa-2NCcR"
      }
    },
    {
      "cell_type": "markdown",
      "source": [
        "*maximizing the profit of a seller*\n",
        "\n",
        "# Objective function\n",
        " Maximize Z=3x1+5x2\n",
        "\n",
        "\n",
        "\n",
        "---\n",
        "# Constraints\n",
        "x1 <= 4                 \n",
        "\n",
        "2x2 <= 12               \n",
        "\n",
        "3x1+2x2 <= 18\n",
        "           \n",
        "X1 , X2 >= 0"
      ],
      "metadata": {
        "id": "P0NakF2kNQKZ"
      }
    },
    {
      "cell_type": "code",
      "source": [
        "obj=[-3,-5] # coefficient for x1 and x2, respectively (!!!pay attention to signs!!!).\n",
        "\n",
        "# left hand side coefficents in constraints\n",
        "LHS_ineq=[[1,0], # 1\n",
        "          [0,2], # 2\n",
        "          [3,2]] # 3\n",
        "\n",
        "# right hand side coefficents in constraints\n",
        "RHS_ineq=[4,   # 1\n",
        "          12,  # 2\n",
        "          18]  # 3"
      ],
      "metadata": {
        "id": "VAnpJuhJwbcQ"
      },
      "execution_count": 1,
      "outputs": []
    },
    {
      "cell_type": "code",
      "source": [
        "# chaging the metod:\n",
        "opt = linprog(c=obj, A_ub=LHS_ineq, b_ub=RHS_ineq,\n",
        "              method=\"highs\") #instead of \"revised simplex\"\n",
        "print(opt)\n",
        "\n",
        "# ineqlin: parameters pertain to inequality constraints\n",
        "# residual : slack\n",
        "# marginals : shadow price"
      ],
      "metadata": {
        "colab": {
          "base_uri": "https://localhost:8080/"
        },
        "id": "fDrcL8DPNrJZ",
        "outputId": "460b8f06-cc5a-4692-952c-e97a0fb26732"
      },
      "execution_count": 5,
      "outputs": [
        {
          "output_type": "stream",
          "name": "stdout",
          "text": [
            "        message: Optimization terminated successfully. (HiGHS Status 7: Optimal)\n",
            "        success: True\n",
            "         status: 0\n",
            "            fun: -36.0\n",
            "              x: [ 2.000e+00  6.000e+00]\n",
            "            nit: 1\n",
            "          lower:  residual: [ 2.000e+00  6.000e+00]\n",
            "                 marginals: [ 0.000e+00  0.000e+00]\n",
            "          upper:  residual: [       inf        inf]\n",
            "                 marginals: [ 0.000e+00  0.000e+00]\n",
            "          eqlin:  residual: []\n",
            "                 marginals: []\n",
            "        ineqlin:  residual: [ 2.000e+00  0.000e+00  0.000e+00]\n",
            "                 marginals: [-0.000e+00 -1.500e+00 -1.000e+00]\n",
            " mip_node_count: 0\n",
            " mip_dual_bound: 0.0\n",
            "        mip_gap: 0.0\n"
          ]
        }
      ]
    },
    {
      "cell_type": "code",
      "source": [
        "# constrains 1 and 2 are sensetive\n",
        "obj=[-3,-5] # coefficient for x1 and x2, respectively (!!!pay attention to signs!!!).\n",
        "\n",
        "# left hand side coefficents in constraints\n",
        "LHS_ineq=[[1,0], # 1\n",
        "          [0,2], # 2\n",
        "          [3,2]] # 3\n",
        "\n",
        "# right hand side coefficents in constraints\n",
        "RHS_ineq=[2,   # 1 ==> x1 <= 2\n",
        "          12,  # 2\n",
        "          18]  # 3\n",
        "opt = linprog(c=obj, A_ub=LHS_ineq, b_ub=RHS_ineq,\n",
        "              method=\"highs\") #instead of \"revised simplex\"\n",
        "print(opt)"
      ],
      "metadata": {
        "colab": {
          "base_uri": "https://localhost:8080/"
        },
        "id": "4nBdt8DUiwG_",
        "outputId": "a6eff85e-22e7-48d8-b2eb-48e5932bcf8c"
      },
      "execution_count": 6,
      "outputs": [
        {
          "output_type": "stream",
          "name": "stdout",
          "text": [
            "        message: Optimization terminated successfully. (HiGHS Status 7: Optimal)\n",
            "        success: True\n",
            "         status: 0\n",
            "            fun: -36.0\n",
            "              x: [ 2.000e+00  6.000e+00]\n",
            "            nit: 0\n",
            "          lower:  residual: [ 2.000e+00  6.000e+00]\n",
            "                 marginals: [ 0.000e+00  0.000e+00]\n",
            "          upper:  residual: [       inf        inf]\n",
            "                 marginals: [ 0.000e+00  0.000e+00]\n",
            "          eqlin:  residual: []\n",
            "                 marginals: []\n",
            "        ineqlin:  residual: [ 0.000e+00  0.000e+00  0.000e+00]\n",
            "                 marginals: [-3.000e+00 -2.500e+00 -0.000e+00]\n",
            " mip_node_count: 0\n",
            " mip_dual_bound: 0.0\n",
            "        mip_gap: 0.0\n"
          ]
        }
      ]
    },
    {
      "cell_type": "markdown",
      "source": [
        "# Example 2"
      ],
      "metadata": {
        "id": "92E3teDGUa8j"
      }
    },
    {
      "cell_type": "markdown",
      "source": [
        "A glass manufacturing company produces two types of glass products A and B.\n",
        "\n",
        "# Defining Variables:\n",
        "\n",
        "x1= Quantity of type A glass\n",
        "\n",
        "x2= Quantity of type B glass\n",
        "\n",
        "\n",
        "---\n",
        "\n",
        "# O.F:\n",
        "Maximize Z = 60 * x1 + 50 * x2\n",
        "\n",
        "\n",
        "---\n",
        "# Subjected to:\n",
        "4 * x1 + 10 * x2 <= 100\n",
        "\n",
        "2 * x1 + 1 * x2 <= 22\n",
        "\n",
        "3 * x1 + 3 * x2 <= 39"
      ],
      "metadata": {
        "id": "3H5Hr0fUUddz"
      }
    },
    {
      "cell_type": "code",
      "source": [
        "obj=[-60,-50]\n",
        "\n",
        "# left hand side coefficents in constraints\n",
        "LHS_ineq=[[4,10], # 1\n",
        "          [2,1],  # 2\n",
        "          [3,3]]  # 3\n",
        "\n",
        "# right hand side coefficents in constraints\n",
        "RHS_ineq=[100,   # 1\n",
        "          22,   # 2\n",
        "          39]   # 3\n",
        "\n",
        "opt = linprog(c=obj, A_ub=LHS_ineq, b_ub=RHS_ineq,\n",
        "              method=\"highs\") #\n",
        "print(opt)"
      ],
      "metadata": {
        "colab": {
          "base_uri": "https://localhost:8080/"
        },
        "id": "QKkZ79_hUaGr",
        "outputId": "412dde4f-4028-4797-a866-2c30e8b5fcc3"
      },
      "execution_count": null,
      "outputs": [
        {
          "output_type": "stream",
          "name": "stdout",
          "text": [
            "           con: array([], dtype=float64)\n",
            " crossover_nit: 0\n",
            "         eqlin:  marginals: array([], dtype=float64)\n",
            "  residual: array([], dtype=float64)\n",
            "           fun: -740.0\n",
            "       ineqlin:  marginals: array([ -0.        , -10.        , -13.33333333])\n",
            "  residual: array([24.,  0.,  0.])\n",
            "         lower:  marginals: <MemoryView of 'ndarray' at 0x7f3049d55380>\n",
            "  residual: array([9., 4.])\n",
            "       message: 'Optimization terminated successfully.'\n",
            "           nit: 3\n",
            "         slack: array([24.,  0.,  0.])\n",
            "        status: 0\n",
            "       success: True\n",
            "         upper:  marginals: <MemoryView of 'ndarray' at 0x7f304a8a0ba0>\n",
            "  residual: array([inf, inf])\n",
            "             x: array([9., 4.])\n"
          ]
        }
      ]
    },
    {
      "cell_type": "code",
      "source": [
        "# first constraint is non sensetive\n",
        "obj=[-60,-50]\n",
        "\n",
        "# left hand side coefficents in constraints\n",
        "LHS_ineq=[[4,10], # 1\n",
        "          [2,1],  # 2\n",
        "          [3,3]]  # 3\n",
        "\n",
        "# right hand side coefficents in constraints\n",
        "RHS_ineq=[76,   # 1 ==> has been changed to: 4 * x1 + 10 * x2 <= 76\n",
        "          22,   # 2\n",
        "          39]   # 3\n",
        "\n",
        "opt = linprog(c=obj, A_ub=LHS_ineq, b_ub=RHS_ineq,\n",
        "              method=\"highs\")\n",
        "print(opt)"
      ],
      "metadata": {
        "colab": {
          "base_uri": "https://localhost:8080/"
        },
        "id": "q7RdSpBlbgaN",
        "outputId": "0de0d731-0c07-432a-ca2e-c6a12953f304"
      },
      "execution_count": null,
      "outputs": [
        {
          "output_type": "stream",
          "name": "stdout",
          "text": [
            "           con: array([], dtype=float64)\n",
            " crossover_nit: 0\n",
            "         eqlin:  marginals: array([], dtype=float64)\n",
            "  residual: array([], dtype=float64)\n",
            "           fun: -740.0\n",
            "       ineqlin:  marginals: array([ -2.5, -25. ,  -0. ])\n",
            "  residual: array([0., 0., 0.])\n",
            "         lower:  marginals: <MemoryView of 'ndarray' at 0x7f3049d55380>\n",
            "  residual: array([9., 4.])\n",
            "       message: 'Optimization terminated successfully.'\n",
            "           nit: 2\n",
            "         slack: array([0., 0., 0.])\n",
            "        status: 0\n",
            "       success: True\n",
            "         upper:  marginals: <MemoryView of 'ndarray' at 0x7f304a8a01e0>\n",
            "  residual: array([inf, inf])\n",
            "             x: array([9., 4.])\n"
          ]
        }
      ]
    },
    {
      "cell_type": "markdown",
      "source": [
        "# **Duality**"
      ],
      "metadata": {
        "id": "kmSutjhrqGmB"
      }
    },
    {
      "cell_type": "markdown",
      "source": [
        "## use duality:\n",
        "O.F:\n",
        "\n",
        "Z = 10 x1 - 4x2 + 7x3\n",
        "\n",
        "subjected to:\n",
        "\n",
        "3 x1 - x2 + 2 x3 <= 25\n",
        "\n",
        "x1 - 2 x2 + 3 x3 <=25\n",
        "\n",
        "5 x1 + x1 +2 x3 <= 40\n",
        "\n",
        "x1 + x2 + x3 <= 90\n",
        "\n",
        "2 x1 + x2 + x3 <= 20\n",
        "\n",
        "x1 , x2 >=0\n",
        "\n",
        "## do not use duality:\n",
        "\n",
        "O.F:\n",
        "\n",
        "Z = 2X1 + 5 x2 + 3 x3 + 4 x4 + x5\n",
        "\n",
        "subjected to:\n",
        "\n",
        "X1 + 3 x2 + 2 x3 + 3 x4 + x5 <= 6\n",
        "\n",
        "4 X1 + 62 x2 + 5 x3 + 7 x4 + x5 <= 15"
      ],
      "metadata": {
        "id": "lt9R5edgZZq1"
      }
    },
    {
      "cell_type": "markdown",
      "source": [
        "# Example 1"
      ],
      "metadata": {
        "id": "R_WsJubGbZA3"
      }
    },
    {
      "cell_type": "markdown",
      "source": [
        "O.F:\n",
        "\n",
        "Maximize Z = 2 x1 + 3 x2\n",
        "\n",
        "subjected to:\n",
        "\n",
        "4 x1 + 8 x2 <= 12\n",
        "\n",
        "2 x1 + 1 x2 <= 3\n",
        "\n",
        "3 x1 + 2 x2 <= 4\n",
        "\n",
        "x1 , x2 >= 0"
      ],
      "metadata": {
        "id": "i103jYbxdCx-"
      }
    },
    {
      "cell_type": "code",
      "source": [
        "# Primal\n",
        "obj=[-2,-3]\n",
        "\n",
        "# left hand side coefficents in constraints\n",
        "LHS_ineq=[[4,8],  # 1\n",
        "          [2,1],  # 2\n",
        "          [3,2]]  # 3\n",
        "\n",
        "# right hand side coefficents in constraints\n",
        "RHS_ineq=[12,  # 1\n",
        "          3,   # 2\n",
        "          4]   # 3\n",
        "\n",
        "opt = linprog(c=obj, A_ub=LHS_ineq, b_ub=RHS_ineq,\n",
        "              method=\"highs\")\n",
        "print(opt)"
      ],
      "metadata": {
        "id": "8M7ItFjSqLZ8",
        "colab": {
          "base_uri": "https://localhost:8080/"
        },
        "outputId": "d5435fba-e4cf-40d0-d73d-931fb5f7059d"
      },
      "execution_count": null,
      "outputs": [
        {
          "output_type": "stream",
          "name": "stdout",
          "text": [
            "           con: array([], dtype=float64)\n",
            " crossover_nit: 0\n",
            "         eqlin:  marginals: array([], dtype=float64)\n",
            "  residual: array([], dtype=float64)\n",
            "           fun: -4.75\n",
            "       ineqlin:  marginals: array([-0.3125, -0.    , -0.25  ])\n",
            "  residual: array([0.  , 0.75, 0.  ])\n",
            "         lower:  marginals: <MemoryView of 'ndarray' at 0x7f10cd17da00>\n",
            "  residual: array([0.5 , 1.25])\n",
            "       message: 'Optimization terminated successfully.'\n",
            "           nit: 2\n",
            "         slack: array([0.  , 0.75, 0.  ])\n",
            "        status: 0\n",
            "       success: True\n",
            "         upper:  marginals: <MemoryView of 'ndarray' at 0x7f10cd17d860>\n",
            "  residual: array([inf, inf])\n",
            "             x: array([0.5 , 1.25])\n"
          ]
        }
      ]
    },
    {
      "cell_type": "markdown",
      "source": [
        "**Dual Formulation**\n",
        "\n",
        "O.F:\n",
        "\n",
        "minimize Z = 12 y1 + 3 y2 + 4 y3\n",
        "\n",
        "subjected to:\n",
        "\n",
        "4 y1 + 2 y2 + 3 y3 >= 2\n",
        "\n",
        "8 y1 + 1 y2 + 2 y3 >= 3\n",
        "\n",
        "y1, y2, y3 >= 0"
      ],
      "metadata": {
        "id": "xS7dA7FSfekn"
      }
    },
    {
      "cell_type": "code",
      "source": [
        "# Dual\n",
        "obj=[12, 3, 4]\n",
        "\n",
        "# left hand side coefficents in constraints\n",
        "LHS_ineq=[[-4,-2,-3],  # 1\n",
        "          [-8,-1,-2]]  # 2\n",
        "\n",
        "# right hand side coefficents in constraints\n",
        "RHS_ineq=[-2,  # 1\n",
        "          -3]  # 2\n",
        "\n",
        "opt = linprog(c=obj, A_ub=LHS_ineq, b_ub=RHS_ineq,\n",
        "              method=\"highs\")\n",
        "print(opt)"
      ],
      "metadata": {
        "colab": {
          "base_uri": "https://localhost:8080/"
        },
        "id": "vERip9SffXs3",
        "outputId": "cdb8e465-db4d-4556-8ed3-504e25ce128c"
      },
      "execution_count": null,
      "outputs": [
        {
          "output_type": "stream",
          "name": "stdout",
          "text": [
            "           con: array([], dtype=float64)\n",
            " crossover_nit: 0\n",
            "         eqlin:  marginals: array([], dtype=float64)\n",
            "  residual: array([], dtype=float64)\n",
            "           fun: 4.75\n",
            "       ineqlin:  marginals: array([-0.5 , -1.25])\n",
            "  residual: array([0., 0.])\n",
            "         lower:  marginals: <MemoryView of 'ndarray' at 0x7f10cd17dd40>\n",
            "  residual: array([0.3125, 0.    , 0.25  ])\n",
            "       message: 'Optimization terminated successfully.'\n",
            "           nit: 2\n",
            "         slack: array([0., 0.])\n",
            "        status: 0\n",
            "       success: True\n",
            "         upper:  marginals: <MemoryView of 'ndarray' at 0x7f10cd17da00>\n",
            "  residual: array([inf, inf, inf])\n",
            "             x: array([0.3125, 0.    , 0.25  ])\n"
          ]
        }
      ]
    },
    {
      "cell_type": "markdown",
      "source": [
        "# Example 2"
      ],
      "metadata": {
        "id": "XITfJa6Hir-v"
      }
    },
    {
      "cell_type": "markdown",
      "source": [
        "O.F:\n",
        "\n",
        "Minimize Z = 5 x1 + 10 x2\n",
        "\n",
        "Subjected to:\n",
        "\n",
        "-4 x1 + 2 x2 >= 4\n",
        "\n",
        "5 x1 - 10 x2 >= 10\n",
        "\n",
        "x1 , x2 >= 0"
      ],
      "metadata": {
        "id": "I7FoZ8ajlCz4"
      }
    },
    {
      "cell_type": "code",
      "source": [
        "# Dual\n",
        "obj=[4 , 10]\n",
        "\n",
        "# left hand side coefficents in constraints\n",
        "LHS_ineq=[[-4,+5],  # 1\n",
        "          [2,10]]  # 2\n",
        "\n",
        "# right hand side coefficents in constraints\n",
        "RHS_ineq=[5,  # 1\n",
        "          10]  # 2\n",
        "\n",
        "opt = linprog(c=obj, A_ub=LHS_ineq, b_ub=RHS_ineq,\n",
        "              method=\"highs\")\n",
        "print(opt)"
      ],
      "metadata": {
        "colab": {
          "base_uri": "https://localhost:8080/"
        },
        "id": "eJo1vcpAj0dQ",
        "outputId": "22e129fb-08e2-49df-a51e-5f6deff28162"
      },
      "execution_count": null,
      "outputs": [
        {
          "output_type": "stream",
          "name": "stdout",
          "text": [
            "           con: array([], dtype=float64)\n",
            " crossover_nit: 0\n",
            "         eqlin:  marginals: array([], dtype=float64)\n",
            "  residual: array([], dtype=float64)\n",
            "           fun: 0.0\n",
            "       ineqlin:  marginals: array([-0., -0.])\n",
            "  residual: array([ 5., 10.])\n",
            "         lower:  marginals: <MemoryView of 'ndarray' at 0x7f10cc6c0040>\n",
            "  residual: array([0., 0.])\n",
            "       message: 'Optimization terminated successfully.'\n",
            "           nit: 0\n",
            "         slack: array([ 5., 10.])\n",
            "        status: 0\n",
            "       success: True\n",
            "         upper:  marginals: <MemoryView of 'ndarray' at 0x7f10cd17dd40>\n",
            "  residual: array([inf, inf])\n",
            "             x: array([0., 0.])\n"
          ]
        }
      ]
    },
    {
      "cell_type": "code",
      "source": [
        "# primal\n",
        "\n",
        "obj=[5 , 10]\n",
        "\n",
        "# left hand side coefficents in constraints\n",
        "LHS_ineq=[[4,-2],  # 1\n",
        "          [-5,10]]  # 2\n",
        "\n",
        "# right hand side coefficents in constraints\n",
        "RHS_ineq=[-4,  # 1\n",
        "          -10]  # 2\n",
        "\n",
        "opt = linprog(c=obj, A_ub=LHS_ineq, b_ub=RHS_ineq,\n",
        "              method=\"highs\")\n",
        "print(opt)"
      ],
      "metadata": {
        "colab": {
          "base_uri": "https://localhost:8080/"
        },
        "id": "2iHQU8tfmujZ",
        "outputId": "a775cf9f-e840-44d0-c51a-1888caab4811"
      },
      "execution_count": null,
      "outputs": [
        {
          "output_type": "stream",
          "name": "stdout",
          "text": [
            "           con: None\n",
            " crossover_nit: 0\n",
            "         eqlin:  marginals: None\n",
            "  residual: None\n",
            "           fun: None\n",
            "       ineqlin:  marginals: None\n",
            "  residual: None\n",
            "         lower:  marginals: None\n",
            "  residual: None\n",
            "       message: 'The problem is infeasible.'\n",
            "           nit: 1\n",
            "         slack: None\n",
            "        status: 2\n",
            "       success: False\n",
            "         upper:  marginals: None\n",
            "  residual: None\n",
            "             x: None\n"
          ]
        }
      ]
    }
  ]
}